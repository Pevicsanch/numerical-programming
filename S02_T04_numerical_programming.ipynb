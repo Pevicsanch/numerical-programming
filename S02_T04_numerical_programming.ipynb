{
 "cells": [
  {
   "cell_type": "markdown",
   "id": "76fa0439",
   "metadata": {},
   "source": [
    "# IT Academy - Data Science Itinerary"
   ]
  },
  {
   "cell_type": "markdown",
   "id": "95f81283",
   "metadata": {},
   "source": [
    "## S02-T04: numerical programming\n"
   ]
  },
  {
   "cell_type": "markdown",
   "id": "f8a10586",
   "metadata": {},
   "source": [
    "**1 :**\n",
    "\n",
    "    Create a function that, given an array of one dimension, gives you a basic statistical summary of the data. If it detects that the array has more than one dimension, it should display an error message."
   ]
  },
  {
   "cell_type": "code",
   "execution_count": 2,
   "id": "ccfb6d92",
   "metadata": {
    "ExecuteTime": {
     "end_time": "2022-02-01T10:58:25.352413Z",
     "start_time": "2022-02-01T10:58:23.143316Z"
    }
   },
   "outputs": [],
   "source": [
    "import numpy as np\n",
    "\n",
    "\n",
    "def array_summary(array):\n",
    "    \"\"\"array_summary() is a fuction that given an array as an input,\n",
    "    it return a basic statistics summary\"\"\"\n",
    "    \n",
    "    if array.ndim != 1:\n",
    "        print(\"Error: array has more than 1 dimension\")\n",
    "    else:\n",
    "        print(\"The mean is\", np.mean(array))\n",
    "        print(\"The max value is\", np.amax(array))\n",
    "        print(\"The min value is\", np.amin(array))\n",
    "        print(\"The median value is\",np.median(array))\n",
    "        print(\"The standard deviation is\", np.std(array))\n",
    "        print (\"The 1st quartile:\",np.quantile(array,0.25))\n",
    "        print (\"The 3rd quartile:\",np.quantile(array,0.75))"
   ]
  },
  {
   "cell_type": "code",
   "execution_count": 3,
   "id": "a2ead297",
   "metadata": {
    "ExecuteTime": {
     "end_time": "2022-02-01T10:58:26.013817Z",
     "start_time": "2022-02-01T10:58:26.002242Z"
    }
   },
   "outputs": [
    {
     "data": {
      "text/plain": [
       "8"
      ]
     },
     "execution_count": 3,
     "metadata": {},
     "output_type": "execute_result"
    }
   ],
   "source": [
    "# \"array_test\" is a one-dimensional array. Lets test our fuction with it\n",
    " \n",
    "array_test = np.array([10,8,10,8,8,4,64,18], dtype = int)\n"
   ]
  },
  {
   "cell_type": "code",
   "execution_count": 3,
   "id": "52a32ee4",
   "metadata": {
    "ExecuteTime": {
     "end_time": "2022-02-01T09:11:38.743151Z",
     "start_time": "2022-02-01T09:11:38.738337Z"
    }
   },
   "outputs": [
    {
     "name": "stdout",
     "output_type": "stream",
     "text": [
      "The mean is 16.25\n",
      "The max value is 64\n",
      "The min value is 4\n",
      "The median value is 9.0\n",
      "The standard deviation is 18.423829677892705\n",
      "The 1st quartile: 8.0\n",
      "The 3rd quartile: 12.0\n"
     ]
    }
   ],
   "source": [
    "array_summary(array_test)"
   ]
  },
  {
   "cell_type": "code",
   "execution_count": 13,
   "id": "e6edb318",
   "metadata": {
    "ExecuteTime": {
     "end_time": "2022-02-01T09:22:00.471165Z",
     "start_time": "2022-02-01T09:22:00.467097Z"
    }
   },
   "outputs": [
    {
     "name": "stdout",
     "output_type": "stream",
     "text": [
      "[[44 43]\n",
      " [23 83]]\n",
      "Error: array has more than 1 dimension\n"
     ]
    }
   ],
   "source": [
    "# test the function with more than one dimension.\n",
    "\n",
    "array_test_2 = np.random.randint(101, size = (2,2))\n",
    "\n",
    "print(array_test_2)\n",
    "\n",
    "array_summary(array_test_2)"
   ]
  },
  {
   "cell_type": "markdown",
   "id": "a21c0a0b",
   "metadata": {},
   "source": [
    "**2 :**\n",
    "\n",
    "    Create a function that generates an NxN square of random numbers between 0 and 100."
   ]
  },
  {
   "cell_type": "code",
   "execution_count": 15,
   "id": "2d0ee4b5",
   "metadata": {
    "ExecuteTime": {
     "end_time": "2022-02-01T09:38:38.151459Z",
     "start_time": "2022-02-01T09:38:38.148134Z"
    }
   },
   "outputs": [],
   "source": [
    "import random\n",
    "\n",
    "def n_array(N):\n",
    "    \"\"\" n_array() is a fuction that return a N x N array of\n",
    "    random numbers between 0 and 100\"\"\"\n",
    "    return np.random.randint(101, size = (N,N))"
   ]
  },
  {
   "cell_type": "code",
   "execution_count": 24,
   "id": "64fa1d73",
   "metadata": {
    "ExecuteTime": {
     "end_time": "2022-02-01T09:41:39.426998Z",
     "start_time": "2022-02-01T09:41:39.423165Z"
    }
   },
   "outputs": [
    {
     "name": "stdout",
     "output_type": "stream",
     "text": [
      "[[85 94]\n",
      " [47 17]]\n"
     ]
    }
   ],
   "source": [
    "print(n_array(2))"
   ]
  },
  {
   "cell_type": "code",
   "execution_count": 25,
   "id": "43de7f4e",
   "metadata": {
    "ExecuteTime": {
     "end_time": "2022-02-01T09:41:46.452509Z",
     "start_time": "2022-02-01T09:41:46.448947Z"
    }
   },
   "outputs": [
    {
     "name": "stdout",
     "output_type": "stream",
     "text": [
      "[[80 61  3]\n",
      " [87 92 29]\n",
      " [88 71 75]]\n"
     ]
    }
   ],
   "source": [
    "print(n_array(3))"
   ]
  },
  {
   "cell_type": "markdown",
   "id": "93681646",
   "metadata": {},
   "source": [
    "**3 :**\n",
    "\n",
    "    Create a function that given a two-dimensional table, calculates the \n",
    "    totals per row and the totals per column."
   ]
  },
  {
   "cell_type": "code",
   "execution_count": 52,
   "id": "5cd3d986",
   "metadata": {
    "ExecuteTime": {
     "end_time": "2022-02-01T10:13:48.472207Z",
     "start_time": "2022-02-01T10:13:48.468167Z"
    }
   },
   "outputs": [],
   "source": [
    "def total_Row_Column(array):\n",
    "    \"\"\"total_Row_Column() is a fuction that given a two-dimensional array an input,\n",
    "    calculates the totals per row and the totals per column.\"\"\"\n",
    "    \n",
    "    if array.ndim != 2:\n",
    "        print(\"The argument of this function must be a two-dimensional array.\")\n",
    "    \n",
    "    else:\n",
    "        print(\"Total value of each column is:\",np.sum(array, axis=1))\n",
    "        print(\"Total value of each row is:\",np.sum(array, axis=0))"
   ]
  },
  {
   "cell_type": "markdown",
   "id": "44c863e0",
   "metadata": {
    "ExecuteTime": {
     "end_time": "2022-02-01T10:14:04.418528Z",
     "start_time": "2022-02-01T10:14:04.414724Z"
    }
   },
   "source": [
    "+ Create an array of two dimension in order to test the function: "
   ]
  },
  {
   "cell_type": "code",
   "execution_count": 59,
   "id": "fac73a04",
   "metadata": {
    "ExecuteTime": {
     "end_time": "2022-02-01T10:20:17.424258Z",
     "start_time": "2022-02-01T10:20:17.420119Z"
    }
   },
   "outputs": [
    {
     "name": "stdout",
     "output_type": "stream",
     "text": [
      "Total value of each column is: [ 31 103]\n",
      "Total value of each row is: [ 18 116]\n"
     ]
    }
   ],
   "source": [
    "array_test = np.random.randint(101, size = (2,2))\n",
    "\n",
    "total_Row_Column(array_test)"
   ]
  },
  {
   "cell_type": "markdown",
   "id": "d9368ac2",
   "metadata": {},
   "source": [
    "+ Test the fuction with a one-dimensional array:"
   ]
  },
  {
   "cell_type": "code",
   "execution_count": 58,
   "id": "1783d3b6",
   "metadata": {
    "ExecuteTime": {
     "end_time": "2022-02-01T10:19:59.455377Z",
     "start_time": "2022-02-01T10:19:59.451641Z"
    }
   },
   "outputs": [
    {
     "name": "stdout",
     "output_type": "stream",
     "text": [
      "The argument of this function must be a two-dimensional array.\n"
     ]
    }
   ],
   "source": [
    "array_test_2 = np.array([10,8,10,8,8,4,64,18], dtype = int)\n",
    "\n",
    "total_Row_Column(array_test_2)"
   ]
  },
  {
   "cell_type": "markdown",
   "id": "b8e64027",
   "metadata": {},
   "source": [
    "**4 :**\n",
    "\n",
    "    Manually implement a function that calculates the correlation coefficient. \n",
    "    "
   ]
  },
  {
   "cell_type": "markdown",
   "id": "7947ae55",
   "metadata": {},
   "source": [
    "<div> <img src=\"https://editor.analyticsvidhya.com/uploads/39170Formula.JPG\" alt=\"Drawing\" style=\"width: 400px;\"/></div> "
   ]
  },
  {
   "cell_type": "code",
   "execution_count": 7,
   "id": "b0ed1ebf",
   "metadata": {
    "ExecuteTime": {
     "end_time": "2022-02-01T11:26:48.373720Z",
     "start_time": "2022-02-01T11:26:48.368445Z"
    }
   },
   "outputs": [],
   "source": [
    "def coef_corre(X,Y):\n",
    "    \"\"\" coef_corre() is a fuction that given a two one-dimensional arrays as input (X,Y)\n",
    "    calculates and returns the Pearson's correlation coefficient\"\"\"\n",
    "    \n",
    "    if X.ndim == 1 and Y.ndim == 1:\n",
    "        if len(X) == len(Y):\n",
    "            \n",
    "            return (np.sum((X-np.mean(X))*(Y-np.mean(Y))))/(np.sqrt(np.sum((X-np.mean(X))**2))*np.sqrt(np.sum((Y-np.mean(Y))**2)))\n",
    "        \n",
    "        else:\n",
    "            print (\"Error:The arguments of this function must have the same numbers of elements\")\n",
    "    \n",
    "    else:\n",
    "        print(\"Error:The arguments of this function must be two one-dimensional arrays\")"
   ]
  },
  {
   "cell_type": "markdown",
   "id": "fa01dd00",
   "metadata": {},
   "source": [
    "+ Test the fuction:"
   ]
  },
  {
   "cell_type": "code",
   "execution_count": 8,
   "id": "1fe52966",
   "metadata": {
    "ExecuteTime": {
     "end_time": "2022-02-01T11:30:10.879527Z",
     "start_time": "2022-02-01T11:30:10.875212Z"
    }
   },
   "outputs": [],
   "source": [
    "age = np.array([43,21,25,42,57,59])\n",
    "income = np.array([1500,800,1200,4500,4650,4800])"
   ]
  },
  {
   "cell_type": "code",
   "execution_count": 9,
   "id": "f3ca3d78",
   "metadata": {
    "ExecuteTime": {
     "end_time": "2022-02-01T11:30:26.666999Z",
     "start_time": "2022-02-01T11:30:26.662105Z"
    },
    "scrolled": true
   },
   "outputs": [
    {
     "data": {
      "text/plain": [
       "0.8594755764164334"
      ]
     },
     "execution_count": 9,
     "metadata": {},
     "output_type": "execute_result"
    }
   ],
   "source": [
    "coef_corre(age,income) "
   ]
  },
  {
   "cell_type": "code",
   "execution_count": 10,
   "id": "7df94e1c",
   "metadata": {
    "ExecuteTime": {
     "end_time": "2022-02-01T11:32:09.308119Z",
     "start_time": "2022-02-01T11:32:09.299824Z"
    }
   },
   "outputs": [
    {
     "data": {
      "text/plain": [
       "array([[1.        , 0.85947558],\n",
       "       [0.85947558, 1.        ]])"
      ]
     },
     "execution_count": 10,
     "metadata": {},
     "output_type": "execute_result"
    }
   ],
   "source": [
    "#The NumPy function \n",
    "\n",
    "np.corrcoef(age,income)"
   ]
  },
  {
   "cell_type": "markdown",
   "id": "d2bb0e40",
   "metadata": {},
   "source": [
    "**both results are the same: 0.8594**"
   ]
  },
  {
   "cell_type": "code",
   "execution_count": null,
   "id": "656afa98",
   "metadata": {},
   "outputs": [],
   "source": []
  }
 ],
 "metadata": {
  "kernelspec": {
   "display_name": "Python 3 (ipykernel)",
   "language": "python",
   "name": "python3"
  },
  "language_info": {
   "codemirror_mode": {
    "name": "ipython",
    "version": 3
   },
   "file_extension": ".py",
   "mimetype": "text/x-python",
   "name": "python",
   "nbconvert_exporter": "python",
   "pygments_lexer": "ipython3",
   "version": "3.9.7"
  }
 },
 "nbformat": 4,
 "nbformat_minor": 5
}
